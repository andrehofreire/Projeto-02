{
 "cells": [
  {
   "cell_type": "markdown",
   "metadata": {},
   "source": [
    " <h1>Projeto 02 - Prevendo o gênero de um atleta Olímpico com Python e Machine Learning</h1>"
   ]
  },
  {
   "cell_type": "markdown",
   "metadata": {},
   "source": [
    "Este trabalho foi realizado por André Freire, sendo a continuação de um trabalho de exploração e visualização de dados que pode ser encontrado aqui mesmo na minha conta do Gihub \"Projeto 01 - Exploração e Visualização de Dados com Python\".\n",
    "\n",
    "Este trabalho não tem o objetivo de ser utilizado para uma aplicação específica, vamos explorar uma pequena parcela do que pode ser feito utilizando algoritmos de machine learning para realizar previsões. Faremos um split do conjunto de dados, separando  uma parte para treinar o modelo e outra parte para realizar o teste dos algoritmos.\n",
    "\n",
    "Os dados utilizados foram obtidos no site \"Kaggle: 120 years of Olympic history: athletes and results\".\n"
   ]
  },
  {
   "cell_type": "markdown",
   "metadata": {},
   "source": [
    "<h1>Introdução"
   ]
  },
  {
   "cell_type": "markdown",
   "metadata": {},
   "source": [
    "No Projeto 01 realizamos a exploração e visualizações dos dados, portanto não irei entrar em detalhes sobre o nosso dataset (conjunto de dados), exploração ou visualização dos dados neste trabalho, pois essas etapas podem ser vistas no Projeto 01. Vamos agora focar nas atividades necessárias para se criar um modelo preditivo, realizando preparação dos dados, treinamento do modelo, teste e comparação entre algoritmos.\n",
    "\n",
    "Nosso objetivo é criar um modelo para prever o genêro de um atleta olímpico com base no dataset considerado.\n",
    "\n"
   ]
  },
  {
   "cell_type": "markdown",
   "metadata": {},
   "source": [
    "<h1>O que é um modelo preditivo"
   ]
  },
  {
   "cell_type": "markdown",
   "metadata": {},
   "source": [
    "Basicamente, um modelo preditivo é uma função matemática que aplicada a um conjunto de dados, consegue identificar padrões ocultos, e com base nesses padrões, realizar previsões. O objetivo do aprendizado de máquina (Machine Learning) é \"aprender\" a aproximação da função que melhor representa a relação entre os atributos de entrada (variáveis preditoras) com a variável de saída (que queremos prever).\n",
    "\n",
    "Os algoritmos de aprendizagem de máquina são divididos em 3 tipos: Aprendizagem Supervisionada, Aprendizagem Não Supervisionada  e Aprendizagem por Reforço. Neste trabalho utilizaremos algoritmos de aprendizagem supervisionada, que são caracterizados por receberem os dados de entrada juntamente com os dados de saída para o treinamento. O treinamento dura até que o modelo aprenda a mapear os dados e a identificar os padrões entre as entradas e saídas, estando pronto para realizar previsões para novos dados de entrada."
   ]
  },
  {
   "cell_type": "markdown",
   "metadata": {},
   "source": [
    "<h1>O Processo"
   ]
  },
  {
   "cell_type": "markdown",
   "metadata": {},
   "source": [
    "De forma simplificada, o processo para a criação de um modelo preditivo é composto pela sequência de atividades: \n",
    "\n",
    "1 - <i>Coleta de Dados</i>\n",
    "\n",
    "2 - <i>Exploração e Preparação dos Dados</i>\n",
    "\n",
    "3 - <i>Treinamento do Modelo </i>\n",
    "\n",
    "4 - <i>Avaliação do Modelo </i>\n",
    "\n",
    "5 - <i>Otimização do Modelo</i>\n",
    "\n",
    "\n",
    "Essas atividades são realizadas iterativamente, modificando parâmetros, organizando dados, obtendo novos dados, testando algoritmos, criando novas variáveis, entre outras, até que se tenha o modelo ideal para resolver o problema de negócios em que estamos trabalhando "
   ]
  },
  {
   "cell_type": "markdown",
   "metadata": {},
   "source": [
    "<h1>Vamos ao trabalho!"
   ]
  },
  {
   "cell_type": "markdown",
   "metadata": {},
   "source": [
    "Preparando o conjunto de dados para o modelo preditivo:"
   ]
  },
  {
   "cell_type": "code",
   "execution_count": 4,
   "metadata": {},
   "outputs": [],
   "source": [
    "#Importando os pacotes\n",
    "import pandas as pd                 \n",
    "import matplotlib.pyplot as plt    \n",
    "import numpy as np  \n",
    "import seaborn as sns\n",
    "%matplotlib inline "
   ]
  },
  {
   "cell_type": "code",
   "execution_count": 5,
   "metadata": {},
   "outputs": [],
   "source": [
    "#Carregando o conjunto de dados\n",
    "df = pd.read_csv('athlete_events.csv')"
   ]
  },
  {
   "cell_type": "markdown",
   "metadata": {},
   "source": [
    "<h1>Preparação dos Dados"
   ]
  },
  {
   "cell_type": "markdown",
   "metadata": {},
   "source": [
    "Normalmente a criação do modelo preditivo em si é bem rápida se comparada ao tempo que o cientista de dados precisar dedicar para preparar o conjunto de dados, pois os dados podem vir de diversas fontes, em diversos formatos, com erros ou necessitando de manipulações, cabe a nós realizarmos as atividades que irão garantir que o modelo preditivo receba corretamente as informações de entrada. A etapa de preparação dos dados é de extrema importância para garantir a precisão do nosso modelo, é certo que dados de entrada ruins irão gerar saídas ruins, nunca devemos negligenciar esta etapa.\n",
    "\n",
    "Vamos agora obter informações que podem ser úteis para que saibamos quais atividades ainda precisamos realizar antes de criar o modelo preditivo:\n",
    " "
   ]
  },
  {
   "cell_type": "code",
   "execution_count": 6,
   "metadata": {
    "scrolled": true
   },
   "outputs": [
    {
     "data": {
      "text/html": [
       "<div>\n",
       "<style scoped>\n",
       "    .dataframe tbody tr th:only-of-type {\n",
       "        vertical-align: middle;\n",
       "    }\n",
       "\n",
       "    .dataframe tbody tr th {\n",
       "        vertical-align: top;\n",
       "    }\n",
       "\n",
       "    .dataframe thead th {\n",
       "        text-align: right;\n",
       "    }\n",
       "</style>\n",
       "<table border=\"1\" class=\"dataframe\">\n",
       "  <thead>\n",
       "    <tr style=\"text-align: right;\">\n",
       "      <th></th>\n",
       "      <th>ID</th>\n",
       "      <th>Name</th>\n",
       "      <th>Sex</th>\n",
       "      <th>Age</th>\n",
       "      <th>Height</th>\n",
       "      <th>Weight</th>\n",
       "      <th>Team</th>\n",
       "      <th>NOC</th>\n",
       "      <th>Games</th>\n",
       "      <th>Year</th>\n",
       "      <th>Season</th>\n",
       "      <th>City</th>\n",
       "      <th>Sport</th>\n",
       "      <th>Event</th>\n",
       "      <th>Medal</th>\n",
       "    </tr>\n",
       "  </thead>\n",
       "  <tbody>\n",
       "    <tr>\n",
       "      <th>0</th>\n",
       "      <td>1</td>\n",
       "      <td>A Dijiang</td>\n",
       "      <td>M</td>\n",
       "      <td>24.0</td>\n",
       "      <td>180.0</td>\n",
       "      <td>80.0</td>\n",
       "      <td>China</td>\n",
       "      <td>CHN</td>\n",
       "      <td>1992 Summer</td>\n",
       "      <td>1992</td>\n",
       "      <td>Summer</td>\n",
       "      <td>Barcelona</td>\n",
       "      <td>Basketball</td>\n",
       "      <td>Basketball Men's Basketball</td>\n",
       "      <td>NaN</td>\n",
       "    </tr>\n",
       "    <tr>\n",
       "      <th>1</th>\n",
       "      <td>2</td>\n",
       "      <td>A Lamusi</td>\n",
       "      <td>M</td>\n",
       "      <td>23.0</td>\n",
       "      <td>170.0</td>\n",
       "      <td>60.0</td>\n",
       "      <td>China</td>\n",
       "      <td>CHN</td>\n",
       "      <td>2012 Summer</td>\n",
       "      <td>2012</td>\n",
       "      <td>Summer</td>\n",
       "      <td>London</td>\n",
       "      <td>Judo</td>\n",
       "      <td>Judo Men's Extra-Lightweight</td>\n",
       "      <td>NaN</td>\n",
       "    </tr>\n",
       "    <tr>\n",
       "      <th>2</th>\n",
       "      <td>3</td>\n",
       "      <td>Gunnar Nielsen Aaby</td>\n",
       "      <td>M</td>\n",
       "      <td>24.0</td>\n",
       "      <td>NaN</td>\n",
       "      <td>NaN</td>\n",
       "      <td>Denmark</td>\n",
       "      <td>DEN</td>\n",
       "      <td>1920 Summer</td>\n",
       "      <td>1920</td>\n",
       "      <td>Summer</td>\n",
       "      <td>Antwerpen</td>\n",
       "      <td>Football</td>\n",
       "      <td>Football Men's Football</td>\n",
       "      <td>NaN</td>\n",
       "    </tr>\n",
       "    <tr>\n",
       "      <th>3</th>\n",
       "      <td>4</td>\n",
       "      <td>Edgar Lindenau Aabye</td>\n",
       "      <td>M</td>\n",
       "      <td>34.0</td>\n",
       "      <td>NaN</td>\n",
       "      <td>NaN</td>\n",
       "      <td>Denmark/Sweden</td>\n",
       "      <td>DEN</td>\n",
       "      <td>1900 Summer</td>\n",
       "      <td>1900</td>\n",
       "      <td>Summer</td>\n",
       "      <td>Paris</td>\n",
       "      <td>Tug-Of-War</td>\n",
       "      <td>Tug-Of-War Men's Tug-Of-War</td>\n",
       "      <td>Gold</td>\n",
       "    </tr>\n",
       "    <tr>\n",
       "      <th>4</th>\n",
       "      <td>5</td>\n",
       "      <td>Christine Jacoba Aaftink</td>\n",
       "      <td>F</td>\n",
       "      <td>21.0</td>\n",
       "      <td>185.0</td>\n",
       "      <td>82.0</td>\n",
       "      <td>Netherlands</td>\n",
       "      <td>NED</td>\n",
       "      <td>1988 Winter</td>\n",
       "      <td>1988</td>\n",
       "      <td>Winter</td>\n",
       "      <td>Calgary</td>\n",
       "      <td>Speed Skating</td>\n",
       "      <td>Speed Skating Women's 500 metres</td>\n",
       "      <td>NaN</td>\n",
       "    </tr>\n",
       "  </tbody>\n",
       "</table>\n",
       "</div>"
      ],
      "text/plain": [
       "   ID                      Name Sex   Age  Height  Weight            Team  \\\n",
       "0   1                 A Dijiang   M  24.0   180.0    80.0           China   \n",
       "1   2                  A Lamusi   M  23.0   170.0    60.0           China   \n",
       "2   3       Gunnar Nielsen Aaby   M  24.0     NaN     NaN         Denmark   \n",
       "3   4      Edgar Lindenau Aabye   M  34.0     NaN     NaN  Denmark/Sweden   \n",
       "4   5  Christine Jacoba Aaftink   F  21.0   185.0    82.0     Netherlands   \n",
       "\n",
       "   NOC        Games  Year  Season       City          Sport  \\\n",
       "0  CHN  1992 Summer  1992  Summer  Barcelona     Basketball   \n",
       "1  CHN  2012 Summer  2012  Summer     London           Judo   \n",
       "2  DEN  1920 Summer  1920  Summer  Antwerpen       Football   \n",
       "3  DEN  1900 Summer  1900  Summer      Paris     Tug-Of-War   \n",
       "4  NED  1988 Winter  1988  Winter    Calgary  Speed Skating   \n",
       "\n",
       "                              Event Medal  \n",
       "0       Basketball Men's Basketball   NaN  \n",
       "1      Judo Men's Extra-Lightweight   NaN  \n",
       "2           Football Men's Football   NaN  \n",
       "3       Tug-Of-War Men's Tug-Of-War  Gold  \n",
       "4  Speed Skating Women's 500 metres   NaN  "
      ]
     },
     "execution_count": 6,
     "metadata": {},
     "output_type": "execute_result"
    }
   ],
   "source": [
    "#Visualizando as primeiras 5 linhas\n",
    "df.head(5)"
   ]
  },
  {
   "cell_type": "code",
   "execution_count": 7,
   "metadata": {},
   "outputs": [
    {
     "data": {
      "text/plain": [
       "Index(['ID', 'Name', 'Sex', 'Age', 'Height', 'Weight', 'Team', 'NOC', 'Games',\n",
       "       'Year', 'Season', 'City', 'Sport', 'Event', 'Medal'],\n",
       "      dtype='object')"
      ]
     },
     "execution_count": 7,
     "metadata": {},
     "output_type": "execute_result"
    }
   ],
   "source": [
    "df.columns"
   ]
  },
  {
   "cell_type": "code",
   "execution_count": 8,
   "metadata": {},
   "outputs": [],
   "source": [
    "#Alterando o nome das colunas\n",
    "df.columns = ['ID', 'Nome', 'Gênero', 'Idade', 'Altura', 'Peso', 'País', 'Sigla','Jogos', 'Ano', 'Temporada', 'Cidade', \\n\n",
    "              'Esporte','Evento', 'Medalha']"
   ]
  },
  {
   "cell_type": "code",
   "execution_count": 9,
   "metadata": {},
   "outputs": [
    {
     "name": "stdout",
     "output_type": "stream",
     "text": [
      "<class 'pandas.core.frame.DataFrame'>\n",
      "RangeIndex: 271116 entries, 0 to 271115\n",
      "Data columns (total 15 columns):\n",
      "ID           271116 non-null int64\n",
      "Nome         271116 non-null object\n",
      "Gênero       271116 non-null object\n",
      "Idade        261642 non-null float64\n",
      "Altura       210945 non-null float64\n",
      "Peso         208241 non-null float64\n",
      "País         271116 non-null object\n",
      "Sigla        271116 non-null object\n",
      "Jogos        271116 non-null object\n",
      "Ano          271116 non-null int64\n",
      "Temporada    271116 non-null object\n",
      "Cidade       271116 non-null object\n",
      "Esporte      271116 non-null object\n",
      "Evento       271116 non-null object\n",
      "Medalha      39783 non-null object\n",
      "dtypes: float64(3), int64(2), object(10)\n",
      "memory usage: 31.0+ MB\n"
     ]
    }
   ],
   "source": [
    "df.info()"
   ]
  },
  {
   "cell_type": "markdown",
   "metadata": {},
   "source": [
    "Substituindo valores nulos pela média de suas respectivas colunas"
   ]
  },
  {
   "cell_type": "code",
   "execution_count": 7,
   "metadata": {},
   "outputs": [],
   "source": [
    "df['Idade'] = df['Idade'].fillna(df['Idade'].mean())\n",
    "df['Altura'] = df['Altura'].fillna(df['Altura'].mean())\n",
    "df['Peso'] = df['Peso'].fillna(df['Peso'].mean())"
   ]
  },
  {
   "cell_type": "code",
   "execution_count": 8,
   "metadata": {},
   "outputs": [
    {
     "data": {
      "text/html": [
       "<div>\n",
       "<style scoped>\n",
       "    .dataframe tbody tr th:only-of-type {\n",
       "        vertical-align: middle;\n",
       "    }\n",
       "\n",
       "    .dataframe tbody tr th {\n",
       "        vertical-align: top;\n",
       "    }\n",
       "\n",
       "    .dataframe thead th {\n",
       "        text-align: right;\n",
       "    }\n",
       "</style>\n",
       "<table border=\"1\" class=\"dataframe\">\n",
       "  <thead>\n",
       "    <tr style=\"text-align: right;\">\n",
       "      <th></th>\n",
       "      <th>ID</th>\n",
       "      <th>Idade</th>\n",
       "      <th>Altura</th>\n",
       "      <th>Peso</th>\n",
       "      <th>Ano</th>\n",
       "    </tr>\n",
       "  </thead>\n",
       "  <tbody>\n",
       "    <tr>\n",
       "      <th>count</th>\n",
       "      <td>271116.000000</td>\n",
       "      <td>271116.000000</td>\n",
       "      <td>271116.00000</td>\n",
       "      <td>271116.000000</td>\n",
       "      <td>271116.000000</td>\n",
       "    </tr>\n",
       "    <tr>\n",
       "      <th>mean</th>\n",
       "      <td>68248.954396</td>\n",
       "      <td>25.556898</td>\n",
       "      <td>175.33897</td>\n",
       "      <td>70.702393</td>\n",
       "      <td>1978.378480</td>\n",
       "    </tr>\n",
       "    <tr>\n",
       "      <th>std</th>\n",
       "      <td>39022.286345</td>\n",
       "      <td>6.280857</td>\n",
       "      <td>9.27810</td>\n",
       "      <td>12.574690</td>\n",
       "      <td>29.877632</td>\n",
       "    </tr>\n",
       "    <tr>\n",
       "      <th>min</th>\n",
       "      <td>1.000000</td>\n",
       "      <td>10.000000</td>\n",
       "      <td>127.00000</td>\n",
       "      <td>25.000000</td>\n",
       "      <td>1896.000000</td>\n",
       "    </tr>\n",
       "    <tr>\n",
       "      <th>25%</th>\n",
       "      <td>34643.000000</td>\n",
       "      <td>22.000000</td>\n",
       "      <td>170.00000</td>\n",
       "      <td>63.000000</td>\n",
       "      <td>1960.000000</td>\n",
       "    </tr>\n",
       "    <tr>\n",
       "      <th>50%</th>\n",
       "      <td>68205.000000</td>\n",
       "      <td>25.000000</td>\n",
       "      <td>175.33897</td>\n",
       "      <td>70.702393</td>\n",
       "      <td>1988.000000</td>\n",
       "    </tr>\n",
       "    <tr>\n",
       "      <th>75%</th>\n",
       "      <td>102097.250000</td>\n",
       "      <td>28.000000</td>\n",
       "      <td>180.00000</td>\n",
       "      <td>75.000000</td>\n",
       "      <td>2002.000000</td>\n",
       "    </tr>\n",
       "    <tr>\n",
       "      <th>max</th>\n",
       "      <td>135571.000000</td>\n",
       "      <td>97.000000</td>\n",
       "      <td>226.00000</td>\n",
       "      <td>214.000000</td>\n",
       "      <td>2016.000000</td>\n",
       "    </tr>\n",
       "  </tbody>\n",
       "</table>\n",
       "</div>"
      ],
      "text/plain": [
       "                  ID          Idade        Altura           Peso  \\\n",
       "count  271116.000000  271116.000000  271116.00000  271116.000000   \n",
       "mean    68248.954396      25.556898     175.33897      70.702393   \n",
       "std     39022.286345       6.280857       9.27810      12.574690   \n",
       "min         1.000000      10.000000     127.00000      25.000000   \n",
       "25%     34643.000000      22.000000     170.00000      63.000000   \n",
       "50%     68205.000000      25.000000     175.33897      70.702393   \n",
       "75%    102097.250000      28.000000     180.00000      75.000000   \n",
       "max    135571.000000      97.000000     226.00000     214.000000   \n",
       "\n",
       "                 Ano  \n",
       "count  271116.000000  \n",
       "mean     1978.378480  \n",
       "std        29.877632  \n",
       "min      1896.000000  \n",
       "25%      1960.000000  \n",
       "50%      1988.000000  \n",
       "75%      2002.000000  \n",
       "max      2016.000000  "
      ]
     },
     "execution_count": 8,
     "metadata": {},
     "output_type": "execute_result"
    }
   ],
   "source": [
    "df.describe()"
   ]
  },
  {
   "cell_type": "markdown",
   "metadata": {},
   "source": [
    "\n",
    "\n",
    "<h1>Escolha das Variáveis Preditoras"
   ]
  },
  {
   "cell_type": "markdown",
   "metadata": {},
   "source": [
    "<b>Vamos aqui classificar nossas variáveis em dois tipos:</b>\n",
    "\n",
    "Variáveis preditoras: <i>são as variáveis que serão utilizadas como entrada para o modelo preditivo</i>\n",
    "\n",
    "Variáveis targets: <i>são as variáveis que queremos prever</i>\n",
    "\n",
    "Já sabemos que queremos prever o gênero de um atleta olímpico com base no conjunto de dados obtidos no site Kaggle, logo a nossa variável target é a coluna que chamamos de \"Gênero\", que é uma variável categórica com 2 classificações, \"M para Masculino\" e \"F para Feminino\"."
   ]
  },
  {
   "cell_type": "markdown",
   "metadata": {},
   "source": [
    "<b>Como escolher as variáveis preditoras?"
   ]
  },
  {
   "cell_type": "code",
   "execution_count": 9,
   "metadata": {},
   "outputs": [
    {
     "data": {
      "text/html": [
       "<div>\n",
       "<style scoped>\n",
       "    .dataframe tbody tr th:only-of-type {\n",
       "        vertical-align: middle;\n",
       "    }\n",
       "\n",
       "    .dataframe tbody tr th {\n",
       "        vertical-align: top;\n",
       "    }\n",
       "\n",
       "    .dataframe thead th {\n",
       "        text-align: right;\n",
       "    }\n",
       "</style>\n",
       "<table border=\"1\" class=\"dataframe\">\n",
       "  <thead>\n",
       "    <tr style=\"text-align: right;\">\n",
       "      <th></th>\n",
       "      <th>ID</th>\n",
       "      <th>Idade</th>\n",
       "      <th>Altura</th>\n",
       "      <th>Peso</th>\n",
       "      <th>Ano</th>\n",
       "    </tr>\n",
       "  </thead>\n",
       "  <tbody>\n",
       "    <tr>\n",
       "      <th>ID</th>\n",
       "      <td>1.000000</td>\n",
       "      <td>-0.003565</td>\n",
       "      <td>-0.009821</td>\n",
       "      <td>-0.008039</td>\n",
       "      <td>0.011885</td>\n",
       "    </tr>\n",
       "    <tr>\n",
       "      <th>Idade</th>\n",
       "      <td>-0.003565</td>\n",
       "      <td>1.000000</td>\n",
       "      <td>0.106944</td>\n",
       "      <td>0.161847</td>\n",
       "      <td>-0.108380</td>\n",
       "    </tr>\n",
       "    <tr>\n",
       "      <th>Altura</th>\n",
       "      <td>-0.009821</td>\n",
       "      <td>0.106944</td>\n",
       "      <td>1.000000</td>\n",
       "      <td>0.786609</td>\n",
       "      <td>0.029915</td>\n",
       "    </tr>\n",
       "    <tr>\n",
       "      <th>Peso</th>\n",
       "      <td>-0.008039</td>\n",
       "      <td>0.161847</td>\n",
       "      <td>0.786609</td>\n",
       "      <td>1.000000</td>\n",
       "      <td>0.011457</td>\n",
       "    </tr>\n",
       "    <tr>\n",
       "      <th>Ano</th>\n",
       "      <td>0.011885</td>\n",
       "      <td>-0.108380</td>\n",
       "      <td>0.029915</td>\n",
       "      <td>0.011457</td>\n",
       "      <td>1.000000</td>\n",
       "    </tr>\n",
       "  </tbody>\n",
       "</table>\n",
       "</div>"
      ],
      "text/plain": [
       "              ID     Idade    Altura      Peso       Ano\n",
       "ID      1.000000 -0.003565 -0.009821 -0.008039  0.011885\n",
       "Idade  -0.003565  1.000000  0.106944  0.161847 -0.108380\n",
       "Altura -0.009821  0.106944  1.000000  0.786609  0.029915\n",
       "Peso   -0.008039  0.161847  0.786609  1.000000  0.011457\n",
       "Ano     0.011885 -0.108380  0.029915  0.011457  1.000000"
      ]
     },
     "execution_count": 9,
     "metadata": {},
     "output_type": "execute_result"
    }
   ],
   "source": [
    "df.corr()"
   ]
  },
  {
   "cell_type": "markdown",
   "metadata": {},
   "source": [
    "De acordo com a tabela acima e a exploração que fizemos no Projeto 01 sobre a relação entre variáveis, sabemos que existe uma forte relação entre a variável peso e a variável altura, vamos visualizar essa relação no gráfico:"
   ]
  },
  {
   "cell_type": "code",
   "execution_count": 20,
   "metadata": {},
   "outputs": [
    {
     "data": {
      "text/plain": [
       "<seaborn.axisgrid.FacetGrid at 0x19122518>"
      ]
     },
     "execution_count": 20,
     "metadata": {},
     "output_type": "execute_result"
    },
    {
     "data": {
      "image/png": "[encoded data removed]",
      "text/plain": [
       "<matplotlib.figure.Figure at 0x17a53e80>"
      ]
     },
     "metadata": {},
     "output_type": "display_data"
    }
   ],
   "source": [
    "sns.lmplot(x='Peso', y='Altura', data = df)"
   ]
  },
  {
   "cell_type": "markdown",
   "metadata": {},
   "source": [
    "Vamos agora aplicar uma divisão na visualização dos dados, plotando cores diferentes para cada genêro."
   ]
  },
  {
   "cell_type": "code",
   "execution_count": 21,
   "metadata": {},
   "outputs": [
    {
     "data": {
      "text/plain": [
       "<seaborn.axisgrid.FacetGrid at 0x180432e8>"
      ]
     },
     "execution_count": 21,
     "metadata": {},
     "output_type": "execute_result"
    },
    {
     "data": {
      "image/png": "[encoded data removed]",
      "text/plain": [
       "<matplotlib.figure.Figure at 0x18016940>"
      ]
     },
     "metadata": {},
     "output_type": "display_data"
    }
   ],
   "source": [
    "sns.lmplot(x='Peso', y='Altura', hue = 'Genêro', data = df)"
   ]
  },
  {
   "cell_type": "markdown",
   "metadata": {},
   "source": [
    "M e F são dados do tipo string, vamos transforma-los em valores numéricos para que o modelo consiga realizar as previsões\n",
    "\n",
    "Masculino = M = 0, Feminino = F = 1"
   ]
  },
  {
   "cell_type": "code",
   "execution_count": 10,
   "metadata": {},
   "outputs": [],
   "source": [
    "#Substituindo os valores da classe genêro por 0 e 1\n",
    "genero_map = {'M':0, 'F':1}\n",
    "df['Gênero'] = df['Gênero'].map(genero_map)"
   ]
  },
  {
   "cell_type": "code",
   "execution_count": 11,
   "metadata": {},
   "outputs": [
    {
     "data": {
      "text/html": [
       "<div>\n",
       "<style scoped>\n",
       "    .dataframe tbody tr th:only-of-type {\n",
       "        vertical-align: middle;\n",
       "    }\n",
       "\n",
       "    .dataframe tbody tr th {\n",
       "        vertical-align: top;\n",
       "    }\n",
       "\n",
       "    .dataframe thead th {\n",
       "        text-align: right;\n",
       "    }\n",
       "</style>\n",
       "<table border=\"1\" class=\"dataframe\">\n",
       "  <thead>\n",
       "    <tr style=\"text-align: right;\">\n",
       "      <th></th>\n",
       "      <th>ID</th>\n",
       "      <th>Nome</th>\n",
       "      <th>Gênero</th>\n",
       "      <th>Idade</th>\n",
       "      <th>Altura</th>\n",
       "      <th>Peso</th>\n",
       "      <th>País</th>\n",
       "      <th>Sigla</th>\n",
       "      <th>Jogos</th>\n",
       "      <th>Ano</th>\n",
       "      <th>Temporada</th>\n",
       "      <th>Cidade</th>\n",
       "      <th>Esporte</th>\n",
       "      <th>Evento</th>\n",
       "      <th>Medalha</th>\n",
       "    </tr>\n",
       "  </thead>\n",
       "  <tbody>\n",
       "    <tr>\n",
       "      <th>0</th>\n",
       "      <td>1</td>\n",
       "      <td>A Dijiang</td>\n",
       "      <td>0</td>\n",
       "      <td>24.0</td>\n",
       "      <td>180.0</td>\n",
       "      <td>80.0</td>\n",
       "      <td>China</td>\n",
       "      <td>CHN</td>\n",
       "      <td>1992 Summer</td>\n",
       "      <td>1992</td>\n",
       "      <td>Summer</td>\n",
       "      <td>Barcelona</td>\n",
       "      <td>Basketball</td>\n",
       "      <td>Basketball Men's Basketball</td>\n",
       "      <td>NaN</td>\n",
       "    </tr>\n",
       "    <tr>\n",
       "      <th>1</th>\n",
       "      <td>2</td>\n",
       "      <td>A Lamusi</td>\n",
       "      <td>0</td>\n",
       "      <td>23.0</td>\n",
       "      <td>170.0</td>\n",
       "      <td>60.0</td>\n",
       "      <td>China</td>\n",
       "      <td>CHN</td>\n",
       "      <td>2012 Summer</td>\n",
       "      <td>2012</td>\n",
       "      <td>Summer</td>\n",
       "      <td>London</td>\n",
       "      <td>Judo</td>\n",
       "      <td>Judo Men's Extra-Lightweight</td>\n",
       "      <td>NaN</td>\n",
       "    </tr>\n",
       "    <tr>\n",
       "      <th>2</th>\n",
       "      <td>3</td>\n",
       "      <td>Gunnar Nielsen Aaby</td>\n",
       "      <td>0</td>\n",
       "      <td>24.0</td>\n",
       "      <td>NaN</td>\n",
       "      <td>NaN</td>\n",
       "      <td>Denmark</td>\n",
       "      <td>DEN</td>\n",
       "      <td>1920 Summer</td>\n",
       "      <td>1920</td>\n",
       "      <td>Summer</td>\n",
       "      <td>Antwerpen</td>\n",
       "      <td>Football</td>\n",
       "      <td>Football Men's Football</td>\n",
       "      <td>NaN</td>\n",
       "    </tr>\n",
       "    <tr>\n",
       "      <th>3</th>\n",
       "      <td>4</td>\n",
       "      <td>Edgar Lindenau Aabye</td>\n",
       "      <td>0</td>\n",
       "      <td>34.0</td>\n",
       "      <td>NaN</td>\n",
       "      <td>NaN</td>\n",
       "      <td>Denmark/Sweden</td>\n",
       "      <td>DEN</td>\n",
       "      <td>1900 Summer</td>\n",
       "      <td>1900</td>\n",
       "      <td>Summer</td>\n",
       "      <td>Paris</td>\n",
       "      <td>Tug-Of-War</td>\n",
       "      <td>Tug-Of-War Men's Tug-Of-War</td>\n",
       "      <td>Gold</td>\n",
       "    </tr>\n",
       "    <tr>\n",
       "      <th>4</th>\n",
       "      <td>5</td>\n",
       "      <td>Christine Jacoba Aaftink</td>\n",
       "      <td>1</td>\n",
       "      <td>21.0</td>\n",
       "      <td>185.0</td>\n",
       "      <td>82.0</td>\n",
       "      <td>Netherlands</td>\n",
       "      <td>NED</td>\n",
       "      <td>1988 Winter</td>\n",
       "      <td>1988</td>\n",
       "      <td>Winter</td>\n",
       "      <td>Calgary</td>\n",
       "      <td>Speed Skating</td>\n",
       "      <td>Speed Skating Women's 500 metres</td>\n",
       "      <td>NaN</td>\n",
       "    </tr>\n",
       "  </tbody>\n",
       "</table>\n",
       "</div>"
      ],
      "text/plain": [
       "   ID                      Nome  Gênero  Idade  Altura  Peso            País  \\\n",
       "0   1                 A Dijiang       0   24.0   180.0  80.0           China   \n",
       "1   2                  A Lamusi       0   23.0   170.0  60.0           China   \n",
       "2   3       Gunnar Nielsen Aaby       0   24.0     NaN   NaN         Denmark   \n",
       "3   4      Edgar Lindenau Aabye       0   34.0     NaN   NaN  Denmark/Sweden   \n",
       "4   5  Christine Jacoba Aaftink       1   21.0   185.0  82.0     Netherlands   \n",
       "\n",
       "  Sigla        Jogos   Ano Temporada     Cidade        Esporte  \\\n",
       "0   CHN  1992 Summer  1992    Summer  Barcelona     Basketball   \n",
       "1   CHN  2012 Summer  2012    Summer     London           Judo   \n",
       "2   DEN  1920 Summer  1920    Summer  Antwerpen       Football   \n",
       "3   DEN  1900 Summer  1900    Summer      Paris     Tug-Of-War   \n",
       "4   NED  1988 Winter  1988    Winter    Calgary  Speed Skating   \n",
       "\n",
       "                             Evento Medalha  \n",
       "0       Basketball Men's Basketball     NaN  \n",
       "1      Judo Men's Extra-Lightweight     NaN  \n",
       "2           Football Men's Football     NaN  \n",
       "3       Tug-Of-War Men's Tug-Of-War    Gold  \n",
       "4  Speed Skating Women's 500 metres     NaN  "
      ]
     },
     "execution_count": 11,
     "metadata": {},
     "output_type": "execute_result"
    }
   ],
   "source": [
    "df.head(5)"
   ]
  },
  {
   "cell_type": "markdown",
   "metadata": {},
   "source": [
    "Criação das variáveis"
   ]
  },
  {
   "cell_type": "code",
   "execution_count": 12,
   "metadata": {},
   "outputs": [],
   "source": [
    "#variáveis preditoras\n",
    "varpreditoras = ['Peso', 'Altura']"
   ]
  },
  {
   "cell_type": "code",
   "execution_count": 13,
   "metadata": {},
   "outputs": [],
   "source": [
    "#variável a ser prevista\n",
    "varprev = ['Gênero']"
   ]
  },
  {
   "cell_type": "markdown",
   "metadata": {},
   "source": [
    "<h1>Splitting"
   ]
  },
  {
   "cell_type": "markdown",
   "metadata": {},
   "source": [
    "Devemos dividir o nosso conjunto de dados em 2 partes, uma para treino e outra para teste do modelo preditivo. Não existe uma regra geral para a divisão dos dados, utilizaremos uma divisão 70/30 (70% dos dados para treino e 30% dos dados para teste). O que devemos nos atentar é para que a amostra separada represente de forma confiável toda a nossa população de dados, no nosso caso isso significa garantir que a distribuição de homens e mulheres tenha uma proporção igual ou bem próxima de homens e mulheres, tanto para os dados de treino quanto para os dados de teste."
   ]
  },
  {
   "cell_type": "code",
   "execution_count": 14,
   "metadata": {},
   "outputs": [
    {
     "name": "stdout",
     "output_type": "stream",
     "text": [
      "Mulheres = 74522 (27.49%)\n",
      "Homens = 196594 (72.51%)\n"
     ]
    }
   ],
   "source": [
    "#Verificando a porcentagem de atletas de cada genêro\n",
    "numf = len(df.loc[df['Gênero'] == 1])\n",
    "numm = len(df.loc[df['Gênero'] == 0])\n",
    "print(\"Mulheres = {0} ({1:2.2f}%)\".format(numf, (numf/ (numf + numm)) * 100))\n",
    "print(\"Homens = {0} ({1:2.2f}%)\".format(numm, (numm/ (numm + numf)) * 100))"
   ]
  },
  {
   "cell_type": "code",
   "execution_count": 17,
   "metadata": {},
   "outputs": [],
   "source": [
    "#Criando os objetos que contém as colunas que vamos utilizar no algoritmo\n",
    "x = df[varpreditoras].values\n",
    "y = df[varprev].values"
   ]
  },
  {
   "cell_type": "code",
   "execution_count": 18,
   "metadata": {},
   "outputs": [
    {
     "data": {
      "text/plain": [
       "array([[ 80., 180.],\n",
       "       [ 60., 170.],\n",
       "       [ nan,  nan],\n",
       "       ...,\n",
       "       [ 59., 176.],\n",
       "       [ 96., 185.],\n",
       "       [ 96., 185.]])"
      ]
     },
     "execution_count": 18,
     "metadata": {},
     "output_type": "execute_result"
    }
   ],
   "source": [
    "#Visualizando o array de dados que contém as variáveis preditoras (Peso e Altura)\n",
    "x"
   ]
  },
  {
   "cell_type": "code",
   "execution_count": 19,
   "metadata": {},
   "outputs": [
    {
     "data": {
      "text/plain": [
       "array([[0],\n",
       "       [0],\n",
       "       [0],\n",
       "       ...,\n",
       "       [0],\n",
       "       [0],\n",
       "       [0]], dtype=int64)"
      ]
     },
     "execution_count": 19,
     "metadata": {},
     "output_type": "execute_result"
    }
   ],
   "source": [
    "#Visualizando o array de dados que contém a variável que iremos prever (Gênero)\n",
    "y"
   ]
  },
  {
   "cell_type": "code",
   "execution_count": 20,
   "metadata": {},
   "outputs": [],
   "source": [
    "#Importando o pacote para realizar o split de dados\n",
    "from sklearn.model_selection import train_test_split"
   ]
  },
  {
   "cell_type": "code",
   "execution_count": 21,
   "metadata": {},
   "outputs": [],
   "source": [
    "#Definindo a porcentagem de dados para o split\n",
    "split_test_size = 0.30"
   ]
  },
  {
   "cell_type": "code",
   "execution_count": 22,
   "metadata": {},
   "outputs": [],
   "source": [
    "#Split dos dados\n",
    "x_treino, x_teste, y_treino, y_teste = train_test_split(x, y, test_size = split_test_size, random_state = 42)"
   ]
  },
  {
   "cell_type": "code",
   "execution_count": 23,
   "metadata": {},
   "outputs": [
    {
     "name": "stdout",
     "output_type": "stream",
     "text": [
      "70.0% dados de treino\n",
      "30.0% dados de teste\n"
     ]
    }
   ],
   "source": [
    "#Imprimindo os resultados do split\n",
    "print(\"{0:0.1f}% dados de treino\".format((len(x_treino)/len(df.index)) * 100))\n",
    "print(\"{0:0.1f}% dados de teste\".format((len(x_teste)/len(df.index)) * 100))"
   ]
  },
  {
   "cell_type": "code",
   "execution_count": 24,
   "metadata": {},
   "outputs": [
    {
     "name": "stdout",
     "output_type": "stream",
     "text": [
      "Dataset original mulher : 74522 (27.49%)\n",
      "Dataset original homem : 196594 (72.51%)\n",
      "\n",
      "Treinamento mulher : 52224 (27.52%)\n",
      "Treinamento homem : 137557 (72.48%)\n",
      "\n",
      "Teste mulher : 22298 (27.42%)\n",
      "Teste homem : 59037 (72.58%)\n"
     ]
    }
   ],
   "source": [
    "#Imprimindo as proporções\n",
    "print(\"Dataset original mulher : {0} ({1:0.2f}%)\".format(len(df.loc[df['Gênero'] == 1]), (len(df.loc[df['Gênero'] ==1])/len(df.index) * 100)))\n",
    "\n",
    "print(\"Dataset original homem : {0} ({1:0.2f}%)\".format(len(df.loc[df['Gênero'] == 0]), (len(df.loc[df['Gênero'] == 0])/len(df.index) * 100)))\n",
    "print(\"\")\n",
    "print(\"Treinamento mulher : {0} ({1:0.2f}%)\".format(len(y_treino[y_treino[:] == 1]), (len(y_treino[y_treino[:] == 1])/len(y_treino) * 100)))\n",
    "\n",
    "print(\"Treinamento homem : {0} ({1:0.2f}%)\".format(len(y_treino[y_treino[:] == 0]), (len(y_treino[y_treino[:] == 0])/len(y_treino) * 100)))\n",
    "print(\"\")\n",
    "print(\"Teste mulher : {0} ({1:0.2f}%)\".format(len(y_teste[y_teste[:] == 1]), (len(y_teste[y_teste[:] == 1])/len(y_teste) * 100)))\n",
    "\n",
    "print(\"Teste homem : {0} ({1:0.2f}%)\".format(len(y_teste[y_teste[:] == 0]), (len(y_teste[y_teste[:] == 0])/len(y_teste) * 100)))"
   ]
  },
  {
   "cell_type": "markdown",
   "metadata": {},
   "source": [
    "<h1>Criando o Modelo Preditivo</h1>"
   ]
  },
  {
   "cell_type": "markdown",
   "metadata": {},
   "source": [
    "<b>Modelo 1 - Naive Bayes"
   ]
  },
  {
   "cell_type": "markdown",
   "metadata": {},
   "source": [
    "O algoritmo Naive Bayes é um algoritmo baseado no \"Teorema de Bayes\" da probabilidade, é um algoritmo simples utilizado para classificação e assim como o Teorema de Bayes, ele assume que as variáveis são independentes entre si."
   ]
  },
  {
   "cell_type": "code",
   "execution_count": 23,
   "metadata": {},
   "outputs": [],
   "source": [
    "#Importando o Naive Bayes\n",
    "from sklearn.naive_bayes import GaussianNB"
   ]
  },
  {
   "cell_type": "code",
   "execution_count": 24,
   "metadata": {},
   "outputs": [],
   "source": [
    "#Criando o modelo\n",
    "modelo_nb = GaussianNB()"
   ]
  },
  {
   "cell_type": "code",
   "execution_count": 25,
   "metadata": {},
   "outputs": [
    {
     "data": {
      "text/plain": [
       "GaussianNB(priors=None)"
      ]
     },
     "execution_count": 25,
     "metadata": {},
     "output_type": "execute_result"
    }
   ],
   "source": [
    "#Treinando o modelo\n",
    "modelo_nb.fit(x_treino, y_treino.ravel())"
   ]
  },
  {
   "cell_type": "code",
   "execution_count": 26,
   "metadata": {},
   "outputs": [],
   "source": [
    "#Verificando a precisão do modelo\n",
    "from sklearn import metrics"
   ]
  },
  {
   "cell_type": "code",
   "execution_count": 27,
   "metadata": {},
   "outputs": [],
   "source": [
    "predict_train_nb = modelo_nb.predict(x_treino)"
   ]
  },
  {
   "cell_type": "code",
   "execution_count": 28,
   "metadata": {},
   "outputs": [
    {
     "name": "stdout",
     "output_type": "stream",
     "text": [
      "Exatidão: 0.8071\n",
      "\n"
     ]
    }
   ],
   "source": [
    "print(\"Exatidão: {0:.4f}\".format(metrics.accuracy_score(y_treino, predict_train_nb)))\n",
    "print()"
   ]
  },
  {
   "cell_type": "markdown",
   "metadata": {},
   "source": [
    "O nosso modelo com o Naive Bayes oferece uma precisão de 0,8071, isso siginifica que ele acerta o gênero do atleta 80,71% das vezes. \n",
    "\n",
    "Com base em tudo que foi feito até agora, podemos ver também que a maior parte do tempo do trabalho nós passsamos explorando e preparando os dados para o modelo de aprendizado, muitas vezes o modelo preditivo é criado em poucas linhas de código. Por isso o Cientista de Dados deve ter consciência da importância do trabalho de preparação dos dados, lembrando que dados de entradas ruins e mal preparados gerarão sempre dados de saída ruins, ou seja, previsões ruins.\n",
    "\n",
    "Vamos agora testar outros algoritmos:"
   ]
  },
  {
   "cell_type": "markdown",
   "metadata": {},
   "source": [
    "<b>Modelo 2 - Random Forest"
   ]
  },
  {
   "cell_type": "markdown",
   "metadata": {},
   "source": [
    "Vamos para o segundo algoritmo, conhecido como \"Random Forest\", ele é um algoritmo que funciona como uma coleção de árvores de decisão, ele pode ser utilizado tanto para tarefas de classificação quanto para regressão, vamos testar a eficácia dele da mesma forma que realizamos com o Naive Bayes."
   ]
  },
  {
   "cell_type": "code",
   "execution_count": 30,
   "metadata": {},
   "outputs": [],
   "source": [
    "from sklearn.ensemble import RandomForestClassifier"
   ]
  },
  {
   "cell_type": "code",
   "execution_count": 31,
   "metadata": {},
   "outputs": [
    {
     "data": {
      "text/plain": [
       "RandomForestClassifier(bootstrap=True, class_weight=None, criterion='gini',\n",
       "            max_depth=None, max_features='auto', max_leaf_nodes=None,\n",
       "            min_impurity_decrease=0.0, min_impurity_split=None,\n",
       "            min_samples_leaf=1, min_samples_split=2,\n",
       "            min_weight_fraction_leaf=0.0, n_estimators=10, n_jobs=1,\n",
       "            oob_score=False, random_state=42, verbose=0, warm_start=False)"
      ]
     },
     "execution_count": 31,
     "metadata": {},
     "output_type": "execute_result"
    }
   ],
   "source": [
    "modelo_rf = RandomForestClassifier(random_state = 42)\n",
    "modelo_rf.fit(x_treino, y_treino.ravel())"
   ]
  },
  {
   "cell_type": "code",
   "execution_count": 32,
   "metadata": {},
   "outputs": [
    {
     "name": "stdout",
     "output_type": "stream",
     "text": [
      "Exatidão (Accuracy): 0.8176\n",
      "\n"
     ]
    }
   ],
   "source": [
    "#Verificando nos dados de teste\n",
    "predict_test_rf = modelo_rf.predict(x_teste)\n",
    "print(\"Exatidão (Accuracy): {0:.4f}\".format(metrics.accuracy_score(y_teste, predict_test_rf)))\n",
    "print()"
   ]
  },
  {
   "cell_type": "markdown",
   "metadata": {},
   "source": [
    "O modelo com o Random Forest oferece uma precisão de 0,8176, isso siginifica que ele acerta o gênero do atleta 81,76% das vezes."
   ]
  },
  {
   "cell_type": "markdown",
   "metadata": {},
   "source": [
    "<b> Modelo - Regressão Logística"
   ]
  },
  {
   "cell_type": "markdown",
   "metadata": {},
   "source": [
    "Vamos ao último modelo de classificação que testaremos, os modelos anteriores nos mostraram um resultado parecido. O modelo de regressão logística é um modelo semelhante a regressão linear, estimando uma função linear para os parâmetros encontrados, gerando uma equação para prever o valor esperado de uma variável y, dados valores de outras variáveis de entrada x, a única diferença é que na regressão logística a variável de saída é um valor binário (0 ou 1)."
   ]
  },
  {
   "cell_type": "code",
   "execution_count": 33,
   "metadata": {},
   "outputs": [],
   "source": [
    "from sklearn.linear_model import LogisticRegression"
   ]
  },
  {
   "cell_type": "code",
   "execution_count": 34,
   "metadata": {},
   "outputs": [],
   "source": [
    "# Terceira versão do modelo usando Regressão Logística\n",
    "modelo_lr = LogisticRegression(C = 0.7, random_state = 42)\n",
    "modelo_lr.fit(x_treino, y_treino.ravel())\n",
    "predict_test_lr = modelo_lr.predict(x_teste)"
   ]
  },
  {
   "cell_type": "code",
   "execution_count": 35,
   "metadata": {},
   "outputs": [
    {
     "name": "stdout",
     "output_type": "stream",
     "text": [
      "Exatidão (Accuracy): 0.8104\n"
     ]
    }
   ],
   "source": [
    "print(\"Exatidão (Accuracy): {0:.4f}\".format(metrics.accuracy_score(y_teste, predict_test_lr)))"
   ]
  },
  {
   "cell_type": "markdown",
   "metadata": {},
   "source": [
    "O modelo com o Logistic Regression oferece uma precisão de 0,8104, isso siginifica que ele acerta o gênero do atleta 81,04% das vezes."
   ]
  },
  {
   "cell_type": "markdown",
   "metadata": {},
   "source": [
    "<h1>Resultado"
   ]
  },
  {
   "cell_type": "code",
   "execution_count": 41,
   "metadata": {},
   "outputs": [
    {
     "name": "stdout",
     "output_type": "stream",
     "text": [
      "Naive Bayes        : 0.8071\n",
      "Random Forest      : 0.8176\n",
      "Logistic Regression: 0.8104\n"
     ]
    }
   ],
   "source": [
    "print(\"Naive Bayes        : {0:.4f}\".format(metrics.accuracy_score(y_treino, predict_train_nb)))\n",
    "print(\"Random Forest      : {0:.4f}\".format(metrics.accuracy_score(y_teste, predict_test_rf)))\n",
    "print(\"Logistic Regression: {0:.4f}\".format(metrics.accuracy_score(y_teste, predict_test_lr)))"
   ]
  },
  {
   "cell_type": "markdown",
   "metadata": {},
   "source": [
    "Como podemos ver, o modelo Random Forest teve um desempenho levemente melhor entre os modelos testados, com uma precisão de 81,76%.  \n",
    "\n",
    "Poderíamos realizar atividades para melhorar o desempenho do modelo, cada projeto que realizamos demanda uma precisão, muitas vezes teremos de realizar o treinamento do modelo de maneira iterativa, comparando algoritmos, testando novas variáveis preditoras, criando novas variáveis, obtendo mais dados ou realizando manipulações no conjunto de dados antes do trabalho ser finalizado. Lembrando sempre que a precisão do modelo deve atender ao necessário para resolver o problema de negócios em que estamos trabalhando."
   ]
  },
  {
   "cell_type": "markdown",
   "metadata": {},
   "source": [
    "<h1>Conclusão e Publicação do Modelo</h1>"
   ]
  },
  {
   "cell_type": "markdown",
   "metadata": {},
   "source": [
    "Tão importante quanto criar o modelo preditivo, é realizar a publicação dele, isso significa, coloca-lo para fazer aquilo que ele foi criado.\n",
    "\n",
    "Devemos considerar que o aprendizado pode ser feito de duas formas:\n",
    "\n",
    "<b>Aprendizado offline:</b> O modelo é treinado uma vez em dados históricos e implantado de forma constante, e se necessário reestruturado caso se torne instável.\n",
    "\n",
    "<b>Aprendizado online:</b> O modelo é constantemente atualizado à medida que novos dados chegam.\n",
    "\n",
    "Também precisamos definir como o algoritmo fará as previsões:\n",
    "\n",
    "<b>Previsões em lote:</b> Dados de entrada são processados e o algoritmo gera uma tabela de previsões, funcionam bem quando a saída não precisa ser atualizada o tempo todo.\n",
    "\n",
    "<b>Previsões sob demanda:</b> As previsões são feitas em tempo real usando os dados de entrada disponíveis no momento da solicitação.\n",
    "\n",
    "Lembrando que todo modelo preditivo é criado para resolver um problema específico de negócio, e ele pode ser entregue e aplicado de inúmeras formas: aplicações Web, como parte de um sistema ERP, sites interativos, Dashboards, relatórios, apresentações na empresa. O que eu quero dizer é que a publicação do modelo deve ser levada em consideraçao dentro do planejamento do processo de trabalho do Cientista de Dados.\n",
    "\n",
    "Este foi o nosso primeiro trabalho com Machine Learning, o objetivo era demonstrar de maneira simples as atividades necessárias para criarmos um modelo preditivo, mas isso foi apenas uma introdução do que ainda faremos com Machine Learning.\n",
    "\n",
    "Seguiremos trabalhando, obrigado!!\n",
    "André Freire."
   ]
  },
  {
   "cell_type": "markdown",
   "metadata": {},
   "source": [
    "<h1>Referências</h1>\n",
    "\n",
    "https://medium.com/@cristianofurquim/10-algoritmos-de-aprendizagem-de-m%C3%A1quinas-machine-learning-que-voc%C3%AA-precisa-saber-c49f9eefe319\n",
    "\n",
    "http://datascienceacademy.com.br/blog/como-publicar-um-modelo-de-machine-learning-em-produc%CC%A7a%CC%83o/"
   ]
  }
 ],
 "metadata": {
  "kernelspec": {
   "display_name": "Python 3",
   "language": "python",
   "name": "python3"
  },
  "language_info": {
   "codemirror_mode": {
    "name": "ipython",
    "version": 3
   },
   "file_extension": ".py",
   "mimetype": "text/x-python",
   "name": "python",
   "nbconvert_exporter": "python",
   "pygments_lexer": "ipython3",
   "version": "3.6.4"
  }
 },
 "nbformat": 4,
 "nbformat_minor": 2
}
